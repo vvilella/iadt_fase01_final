{
 "cells": [
  {
   "cell_type": "markdown",
   "id": "a706becb",
   "metadata": {},
   "source": [
    "# IADT Fase 01 — Tech Challenge\n",
    "\n",
    "## Previsão de Custos Médicos com Modelos de Regressão\n",
    "\n",
    "Este notebook documenta o passo a passo para resolver o desafio de previsão de custos médicos, integrando os conhecimentos adquiridos na Fase 01 do curso IADT.\n",
    "\n",
    "Autor: Victor Nardi Vilella\n"
   ]
  },
  {
   "cell_type": "markdown",
   "id": "213efb9d",
   "metadata": {},
   "source": [
    "## 1. Importação das Bibliotecas\n",
    "\n",
    "Aqui a gente importa as bibliotecas essenciais pra resolver o desafio.  \n",
    "\n",
    "Cada uma tem seu papel: manipular dados, fazer gráficos, modelar e avaliar o modelo.\n",
    "\n",
    "- `pandas` e `numpy` → manipulação de dados, básico de qualquer projeto.\n",
    "- `matplotlib` e `seaborn` → gráficos pra visualizar melhor as distribuições, correlações e resultados.\n",
    "- `scikit-learn` → separar os dados, criar o modelo de regressão e avaliar.\n",
    "- `statsmodels` → pra complementar a validação estatística, com análise mais robusta (p-value e intervalos de confiança).\n",
    "\n",
    "Depois de importadas, seguimos pro carregamento e exploração do dataset.\n"
   ]
  },
  {
   "cell_type": "code",
   "execution_count": 4,
   "id": "77b37192",
   "metadata": {},
   "outputs": [
    {
     "name": "stdout",
     "output_type": "stream",
     "text": [
      "Bibliotecas importadas com sucesso!\n"
     ]
    }
   ],
   "source": [
    "import pandas as pd\n",
    "import numpy as np\n",
    "import matplotlib.pyplot as plt\n",
    "import seaborn as sns\n",
    "\n",
    "from sklearn.model_selection import train_test_split\n",
    "from sklearn.linear_model import LinearRegression\n",
    "from sklearn.metrics import mean_squared_error, r2_score\n",
    "\n",
    "import statsmodels.api as sm\n",
    "\n",
    "print(\"Bibliotecas importadas com sucesso!\")"
   ]
  },
  {
   "cell_type": "markdown",
   "id": "c1d79942",
   "metadata": {},
   "source": [
    "## 2. Carregamento do Dataset\n",
    "\n",
    "Agora vamos carregar o dataset com os nomes das colunas sugeridas no desafio\n",
    "  \n",
    "Primeiro, damos aquela olhada rápida no cabeçalho, na estrutura e nas estatísticas básicas — só pra garantir que está tudo certo antes de seguir.\n"
   ]
  },
  {
   "cell_type": "code",
   "execution_count": 8,
   "id": "a8cae3c3",
   "metadata": {},
   "outputs": [
    {
     "name": "stdout",
     "output_type": "stream",
     "text": [
      "Primeiras linhas do dataset:\n"
     ]
    },
    {
     "data": {
      "text/html": [
       "<div>\n",
       "<style scoped>\n",
       "    .dataframe tbody tr th:only-of-type {\n",
       "        vertical-align: middle;\n",
       "    }\n",
       "\n",
       "    .dataframe tbody tr th {\n",
       "        vertical-align: top;\n",
       "    }\n",
       "\n",
       "    .dataframe thead th {\n",
       "        text-align: right;\n",
       "    }\n",
       "</style>\n",
       "<table border=\"1\" class=\"dataframe\">\n",
       "  <thead>\n",
       "    <tr style=\"text-align: right;\">\n",
       "      <th></th>\n",
       "      <th>idade</th>\n",
       "      <th>genero</th>\n",
       "      <th>imc</th>\n",
       "      <th>filhos</th>\n",
       "      <th>fumante</th>\n",
       "      <th>regiao</th>\n",
       "      <th>encargos</th>\n",
       "    </tr>\n",
       "  </thead>\n",
       "  <tbody>\n",
       "    <tr>\n",
       "      <th>0</th>\n",
       "      <td>19</td>\n",
       "      <td>feminino</td>\n",
       "      <td>27.900</td>\n",
       "      <td>0</td>\n",
       "      <td>sim</td>\n",
       "      <td>sudoeste</td>\n",
       "      <td>16884.92400</td>\n",
       "    </tr>\n",
       "    <tr>\n",
       "      <th>1</th>\n",
       "      <td>18</td>\n",
       "      <td>masculino</td>\n",
       "      <td>33.770</td>\n",
       "      <td>1</td>\n",
       "      <td>nao</td>\n",
       "      <td>sudeste</td>\n",
       "      <td>1725.55230</td>\n",
       "    </tr>\n",
       "    <tr>\n",
       "      <th>2</th>\n",
       "      <td>28</td>\n",
       "      <td>masculino</td>\n",
       "      <td>33.000</td>\n",
       "      <td>3</td>\n",
       "      <td>nao</td>\n",
       "      <td>sudeste</td>\n",
       "      <td>4449.46200</td>\n",
       "    </tr>\n",
       "    <tr>\n",
       "      <th>3</th>\n",
       "      <td>33</td>\n",
       "      <td>masculino</td>\n",
       "      <td>22.705</td>\n",
       "      <td>0</td>\n",
       "      <td>nao</td>\n",
       "      <td>noroeste</td>\n",
       "      <td>21984.47061</td>\n",
       "    </tr>\n",
       "    <tr>\n",
       "      <th>4</th>\n",
       "      <td>32</td>\n",
       "      <td>masculino</td>\n",
       "      <td>28.880</td>\n",
       "      <td>0</td>\n",
       "      <td>nao</td>\n",
       "      <td>noroeste</td>\n",
       "      <td>3866.85520</td>\n",
       "    </tr>\n",
       "  </tbody>\n",
       "</table>\n",
       "</div>"
      ],
      "text/plain": [
       "   idade     genero     imc  filhos fumante    regiao     encargos\n",
       "0     19   feminino  27.900       0     sim  sudoeste  16884.92400\n",
       "1     18  masculino  33.770       1     nao   sudeste   1725.55230\n",
       "2     28  masculino  33.000       3     nao   sudeste   4449.46200\n",
       "3     33  masculino  22.705       0     nao  noroeste  21984.47061\n",
       "4     32  masculino  28.880       0     nao  noroeste   3866.85520"
      ]
     },
     "metadata": {},
     "output_type": "display_data"
    },
    {
     "name": "stdout",
     "output_type": "stream",
     "text": [
      "Informações do dataset:\n",
      "<class 'pandas.core.frame.DataFrame'>\n",
      "RangeIndex: 1338 entries, 0 to 1337\n",
      "Data columns (total 7 columns):\n",
      " #   Column    Non-Null Count  Dtype  \n",
      "---  ------    --------------  -----  \n",
      " 0   idade     1338 non-null   int64  \n",
      " 1   genero    1338 non-null   object \n",
      " 2   imc       1338 non-null   float64\n",
      " 3   filhos    1338 non-null   int64  \n",
      " 4   fumante   1338 non-null   object \n",
      " 5   regiao    1338 non-null   object \n",
      " 6   encargos  1338 non-null   float64\n",
      "dtypes: float64(2), int64(2), object(3)\n",
      "memory usage: 73.3+ KB\n",
      "Estatísticas descritivas:\n"
     ]
    },
    {
     "data": {
      "text/html": [
       "<div>\n",
       "<style scoped>\n",
       "    .dataframe tbody tr th:only-of-type {\n",
       "        vertical-align: middle;\n",
       "    }\n",
       "\n",
       "    .dataframe tbody tr th {\n",
       "        vertical-align: top;\n",
       "    }\n",
       "\n",
       "    .dataframe thead th {\n",
       "        text-align: right;\n",
       "    }\n",
       "</style>\n",
       "<table border=\"1\" class=\"dataframe\">\n",
       "  <thead>\n",
       "    <tr style=\"text-align: right;\">\n",
       "      <th></th>\n",
       "      <th>idade</th>\n",
       "      <th>imc</th>\n",
       "      <th>filhos</th>\n",
       "      <th>encargos</th>\n",
       "    </tr>\n",
       "  </thead>\n",
       "  <tbody>\n",
       "    <tr>\n",
       "      <th>count</th>\n",
       "      <td>1338.000000</td>\n",
       "      <td>1338.000000</td>\n",
       "      <td>1338.000000</td>\n",
       "      <td>1338.000000</td>\n",
       "    </tr>\n",
       "    <tr>\n",
       "      <th>mean</th>\n",
       "      <td>39.207025</td>\n",
       "      <td>30.663397</td>\n",
       "      <td>1.094918</td>\n",
       "      <td>13270.422265</td>\n",
       "    </tr>\n",
       "    <tr>\n",
       "      <th>std</th>\n",
       "      <td>14.049960</td>\n",
       "      <td>6.098187</td>\n",
       "      <td>1.205493</td>\n",
       "      <td>12110.011237</td>\n",
       "    </tr>\n",
       "    <tr>\n",
       "      <th>min</th>\n",
       "      <td>18.000000</td>\n",
       "      <td>15.960000</td>\n",
       "      <td>0.000000</td>\n",
       "      <td>1121.873900</td>\n",
       "    </tr>\n",
       "    <tr>\n",
       "      <th>25%</th>\n",
       "      <td>27.000000</td>\n",
       "      <td>26.296250</td>\n",
       "      <td>0.000000</td>\n",
       "      <td>4740.287150</td>\n",
       "    </tr>\n",
       "    <tr>\n",
       "      <th>50%</th>\n",
       "      <td>39.000000</td>\n",
       "      <td>30.400000</td>\n",
       "      <td>1.000000</td>\n",
       "      <td>9382.033000</td>\n",
       "    </tr>\n",
       "    <tr>\n",
       "      <th>75%</th>\n",
       "      <td>51.000000</td>\n",
       "      <td>34.693750</td>\n",
       "      <td>2.000000</td>\n",
       "      <td>16639.912515</td>\n",
       "    </tr>\n",
       "    <tr>\n",
       "      <th>max</th>\n",
       "      <td>64.000000</td>\n",
       "      <td>53.130000</td>\n",
       "      <td>5.000000</td>\n",
       "      <td>63770.428010</td>\n",
       "    </tr>\n",
       "  </tbody>\n",
       "</table>\n",
       "</div>"
      ],
      "text/plain": [
       "             idade          imc       filhos      encargos\n",
       "count  1338.000000  1338.000000  1338.000000   1338.000000\n",
       "mean     39.207025    30.663397     1.094918  13270.422265\n",
       "std      14.049960     6.098187     1.205493  12110.011237\n",
       "min      18.000000    15.960000     0.000000   1121.873900\n",
       "25%      27.000000    26.296250     0.000000   4740.287150\n",
       "50%      39.000000    30.400000     1.000000   9382.033000\n",
       "75%      51.000000    34.693750     2.000000  16639.912515\n",
       "max      64.000000    53.130000     5.000000  63770.428010"
      ]
     },
     "metadata": {},
     "output_type": "display_data"
    }
   ],
   "source": [
    "# Carregando o dataset\n",
    "df = pd.read_csv('../data/insurance.csv')\n",
    "\n",
    "# Visualizando as primeiras linhas\n",
    "print(\"Primeiras linhas do dataset:\")\n",
    "display(df.head())\n",
    "\n",
    "# Estrutura do DataFrame\n",
    "print(\"Informações do dataset:\")\n",
    "df.info()\n",
    "\n",
    "# Estatísticas descritivas\n",
    "print(\"Estatísticas descritivas:\")\n",
    "display(df.describe())"
   ]
  },
  {
   "cell_type": "markdown",
   "id": "6c273f2d",
   "metadata": {},
   "source": [
    "Comentários - Análise rápida:\n",
    "\n",
    "Total de registros: 1338\n",
    "\n",
    "Variáveis categóricas: genero, fumante, regiao\n",
    "\n",
    "Variáveis numéricas: idade, imc, filhos, encargos\n",
    "\n",
    "Sem valores ausentes: nos ajuda muito"
   ]
  },
  {
   "cell_type": "markdown",
   "id": "b0220d75",
   "metadata": {},
   "source": [
    "## 3. Análise Exploratória de Dados (EDA)\n",
    "\n",
    "Hora de entender melhor a distribuição dos dados e identificar possíveis outliers.\n",
    "\n",
    "Vamos verificar valores ausentes (mesmo sabendo que não tem), visualizar as distribuições e fazer alguns boxplots."
   ]
  },
  {
   "cell_type": "code",
   "execution_count": 9,
   "id": "f066838e",
   "metadata": {},
   "outputs": [
    {
     "name": "stdout",
     "output_type": "stream",
     "text": [
      "Valores ausentes por coluna:\n",
      "idade       0\n",
      "genero      0\n",
      "imc         0\n",
      "filhos      0\n",
      "fumante     0\n",
      "regiao      0\n",
      "encargos    0\n",
      "dtype: int64\n"
     ]
    },
    {
     "data": {
      "image/png": "[encoded data removed]",
      "text/plain": [
       "<Figure size 1000x800 with 4 Axes>"
      ]
     },
     "metadata": {},
     "output_type": "display_data"
    },
    {
     "data": {
      "image/png": "[encoded data removed]",
      "text/plain": [
       "<Figure size 640x480 with 1 Axes>"
      ]
     },
     "metadata": {},
     "output_type": "display_data"
    },
    {
     "data": {
      "image/png": "[encoded data removed]",
      "text/plain": [
       "<Figure size 640x480 with 1 Axes>"
      ]
     },
     "metadata": {},
     "output_type": "display_data"
    },
    {
     "data": {
      "image/png": "[encoded data removed]",
      "text/plain": [
       "<Figure size 640x480 with 1 Axes>"
      ]
     },
     "metadata": {},
     "output_type": "display_data"
    },
    {
     "data": {
      "image/png": "[encoded data removed]",
      "text/plain": [
       "<Figure size 640x480 with 1 Axes>"
      ]
     },
     "metadata": {},
     "output_type": "display_data"
    }
   ],
   "source": [
    "# Verificar novamente se há valores ausentes\n",
    "print(\"Valores ausentes por coluna:\")\n",
    "print(df.isnull().sum())\n",
    "\n",
    "# Histograma das variáveis numéricas\n",
    "df[['idade', 'imc', 'filhos', 'encargos']].hist(bins=30, figsize=(10,8))\n",
    "plt.suptitle(\"Distribuições das Variáveis Numéricas\")\n",
    "plt.show()\n",
    "\n",
    "# Boxplots para detecção de outliers\n",
    "for col in ['idade', 'imc', 'filhos', 'encargos']:\n",
    "    sns.boxplot(x=df[col])\n",
    "    plt.title(f'Boxplot de {col}')\n",
    "    plt.show()"
   ]
  },
  {
   "cell_type": "markdown",
   "id": "3e9a47c3",
   "metadata": {},
   "source": [
    "## Interpretação da Análise Exploratória\n",
    "\n",
    "- **Valores ausentes:** nenhuma coluna com dados faltantes — não precisamos fazer imputação ou remoção.\n",
    "\n",
    "- **Distribuições:**\n",
    "  - **Idade:** distribuição relativamente uniforme, mais concentrada entre 20 e 40 anos.\n",
    "  - **IMC:** maioria entre 20 e 40, mas com alguns outliers acima de 45.\n",
    "  - **Filhos:** maioria com até 2 filhos; poucos casos acima de 3.\n",
    "  - **Encargos:** distribuição assimétrica — muitos valores baixos, mas com outliers claros acima de 40 mil.\n",
    "\n",
    "- **Boxplots:**\n",
    "  - Mostram presença de **outliers** importantes, principalmente em `imc` e `encargos`.\n",
    "  - Decidimos **manter os outliers** por dois motivos: o dataset é pequeno (1338 entradas) e queremos testar a robustez do modelo.\n",
    "\n",
    "**Resumo:**  \n",
    "O dataset está **limpo e pronto** para o pré-processamento.  \n",
    "A presença de outliers será um ponto importante na hora de avaliar a performance e a escolha do modelo."
   ]
  },
  {
   "cell_type": "markdown",
   "id": "d4731dbb",
   "metadata": {},
   "source": [
    "##  4. Pré-processamento dos Dados\n",
    "\n",
    "Agora precisamos preparar os dados para a modelagem:  \n",
    "- Transformar variáveis **categóricas** em variáveis numéricas, usando **One-Hot Encoding**.  \n",
    "- Separar as **variáveis preditoras** (`X`) e a **variável alvo** (`y`), que no nosso caso é `encargos`.\n"
   ]
  },
  {
   "cell_type": "code",
   "execution_count": 10,
   "id": "7119e8af",
   "metadata": {},
   "outputs": [
    {
     "name": "stdout",
     "output_type": "stream",
     "text": [
      "Colunas após Encoding:\n",
      "Index(['idade', 'imc', 'filhos', 'encargos', 'genero_masculino', 'fumante_sim',\n",
      "       'regiao_noroeste', 'regiao_sudeste', 'regiao_sudoeste'],\n",
      "      dtype='object')\n",
      "Variáveis preditoras (X):\n"
     ]
    },
    {
     "data": {
      "text/html": [
       "<div>\n",
       "<style scoped>\n",
       "    .dataframe tbody tr th:only-of-type {\n",
       "        vertical-align: middle;\n",
       "    }\n",
       "\n",
       "    .dataframe tbody tr th {\n",
       "        vertical-align: top;\n",
       "    }\n",
       "\n",
       "    .dataframe thead th {\n",
       "        text-align: right;\n",
       "    }\n",
       "</style>\n",
       "<table border=\"1\" class=\"dataframe\">\n",
       "  <thead>\n",
       "    <tr style=\"text-align: right;\">\n",
       "      <th></th>\n",
       "      <th>idade</th>\n",
       "      <th>imc</th>\n",
       "      <th>filhos</th>\n",
       "      <th>genero_masculino</th>\n",
       "      <th>fumante_sim</th>\n",
       "      <th>regiao_noroeste</th>\n",
       "      <th>regiao_sudeste</th>\n",
       "      <th>regiao_sudoeste</th>\n",
       "    </tr>\n",
       "  </thead>\n",
       "  <tbody>\n",
       "    <tr>\n",
       "      <th>0</th>\n",
       "      <td>19</td>\n",
       "      <td>27.900</td>\n",
       "      <td>0</td>\n",
       "      <td>False</td>\n",
       "      <td>True</td>\n",
       "      <td>False</td>\n",
       "      <td>False</td>\n",
       "      <td>True</td>\n",
       "    </tr>\n",
       "    <tr>\n",
       "      <th>1</th>\n",
       "      <td>18</td>\n",
       "      <td>33.770</td>\n",
       "      <td>1</td>\n",
       "      <td>True</td>\n",
       "      <td>False</td>\n",
       "      <td>False</td>\n",
       "      <td>True</td>\n",
       "      <td>False</td>\n",
       "    </tr>\n",
       "    <tr>\n",
       "      <th>2</th>\n",
       "      <td>28</td>\n",
       "      <td>33.000</td>\n",
       "      <td>3</td>\n",
       "      <td>True</td>\n",
       "      <td>False</td>\n",
       "      <td>False</td>\n",
       "      <td>True</td>\n",
       "      <td>False</td>\n",
       "    </tr>\n",
       "    <tr>\n",
       "      <th>3</th>\n",
       "      <td>33</td>\n",
       "      <td>22.705</td>\n",
       "      <td>0</td>\n",
       "      <td>True</td>\n",
       "      <td>False</td>\n",
       "      <td>True</td>\n",
       "      <td>False</td>\n",
       "      <td>False</td>\n",
       "    </tr>\n",
       "    <tr>\n",
       "      <th>4</th>\n",
       "      <td>32</td>\n",
       "      <td>28.880</td>\n",
       "      <td>0</td>\n",
       "      <td>True</td>\n",
       "      <td>False</td>\n",
       "      <td>True</td>\n",
       "      <td>False</td>\n",
       "      <td>False</td>\n",
       "    </tr>\n",
       "  </tbody>\n",
       "</table>\n",
       "</div>"
      ],
      "text/plain": [
       "   idade     imc  filhos  genero_masculino  fumante_sim  regiao_noroeste  \\\n",
       "0     19  27.900       0             False         True            False   \n",
       "1     18  33.770       1              True        False            False   \n",
       "2     28  33.000       3              True        False            False   \n",
       "3     33  22.705       0              True        False             True   \n",
       "4     32  28.880       0              True        False             True   \n",
       "\n",
       "   regiao_sudeste  regiao_sudoeste  \n",
       "0           False             True  \n",
       "1            True            False  \n",
       "2            True            False  \n",
       "3           False            False  \n",
       "4           False            False  "
      ]
     },
     "metadata": {},
     "output_type": "display_data"
    },
    {
     "name": "stdout",
     "output_type": "stream",
     "text": [
      "Variável alvo (y):\n"
     ]
    },
    {
     "data": {
      "text/plain": [
       "0    16884.92400\n",
       "1     1725.55230\n",
       "2     4449.46200\n",
       "3    21984.47061\n",
       "4     3866.85520\n",
       "Name: encargos, dtype: float64"
      ]
     },
     "metadata": {},
     "output_type": "display_data"
    }
   ],
   "source": [
    "# Transformar variáveis categóricas em dummies\n",
    "df = pd.get_dummies(df, columns=['genero', 'fumante', 'regiao'], drop_first=True)\n",
    "\n",
    "print(\"Colunas após Encoding:\")\n",
    "print(df.columns)\n",
    "\n",
    "# Separar variáveis preditoras (X) e alvo (y)\n",
    "X = df.drop('encargos', axis=1)\n",
    "y = df['encargos']\n",
    "\n",
    "print(\"Variáveis preditoras (X):\")\n",
    "display(X.head())\n",
    "\n",
    "print(\"Variável alvo (y):\")\n",
    "display(y.head())"
   ]
  },
  {
   "cell_type": "markdown",
   "id": "ecba5946",
   "metadata": {},
   "source": [
    "## Comentários: Transformação das Variáveis Categóricas\n",
    "\n",
    "Aplicamos **One-Hot Encoding** para transformar as variáveis categóricas (`genero`, `fumante`, `regiao`) em variáveis numéricas binárias.\n",
    "\n",
    "### Por que fizemos isso?\n",
    "\n",
    "- Modelos de regressão, como a Regressão Linear, **não entendem variáveis categóricas** — eles só operam com números.\n",
    "- O **One-Hot Encoding** cria colunas binárias (`0` ou `1`) para representar as categorias, **sem atribuir ordens falsas** entre elas.\n",
    "- Isso evita que o modelo interprete, por exemplo, que `masculino` vale mais ou menos que `feminino` só porque o número associado seria maior ou menor.\n",
    "- Assim, garantimos que o modelo aprenda de forma **neutra e correta** o impacto de cada categoria na variável alvo.\n",
    "\n",
    "---\n",
    "\n",
    "### Sobre `drop_first=True`\n",
    "\n",
    "- Mantivemos `drop_first=True` para **evitar multicolinearidade**.  \n",
    "- Multicolinearidade acontece quando há colunas **redundantes**, ou seja, quando uma variável pode ser **determinada** pelas demais.\n",
    "- No One-Hot Encoding, se mantivermos todas as categorias, uma delas será automaticamente dedutível pelas outras → gerando **multicolinearidade perfeita**.\n",
    "- Isso pode:  \n",
    "  Inflar os erros padrão,  \n",
    "  Distorcer a interpretação dos coeficientes,  \n",
    "  Prejudicar a estabilidade do modelo.\n",
    "  \n",
    "Por isso, ao usar `drop_first=True`, eliminamos uma categoria (de forma arbitrária), reduzimos o número de colunas e evitamos esse problema.\n",
    "\n",
    "---\n",
    "\n",
    "### O que mudou no dataset?\n",
    "\n",
    "- Agora, as variáveis preditoras (`X`) estão todas **numéricas** e prontas para o modelo.\n",
    "- A variável alvo (`y`) continua sendo `encargos`, o valor que queremos prever.\n",
    "\n",
    "**Exemplo de variáveis transformadas:**\n",
    "- `genero_masculino`: `True` se for masculino, `False` caso contrário.\n",
    "- `fumante_sim`: `True` se for fumante.\n",
    "- `regiao_*`: representa as regiões como variáveis binárias.\n"
   ]
  },
  {
   "cell_type": "markdown",
   "id": "69a41fea",
   "metadata": {},
   "source": [
    "## 5. Divisão em Conjuntos de Treinamento e Teste\n",
    "\n",
    "Agora vamos dividir o dataset para treinar e avaliar o modelo.  \n",
    "Separar os dados evita que o modelo \"decor\" os exemplos e permite uma avaliação mais realista de sua capacidade de generalização.\n",
    "\n",
    "Usaremos **80% dos dados para treino** e **20% para teste**.\n"
   ]
  },
  {
   "cell_type": "code",
   "execution_count": 11,
   "id": "4ebed175",
   "metadata": {},
   "outputs": [
    {
     "name": "stdout",
     "output_type": "stream",
     "text": [
      "Treinamento: 1070 amostras\n",
      "Teste: 268 amostras\n"
     ]
    }
   ],
   "source": [
    "from sklearn.model_selection import train_test_split\n",
    "\n",
    "# Dividir os dados\n",
    "X_train, X_test, y_train, y_test = train_test_split(\n",
    "    X, y, test_size=0.2, random_state=42\n",
    ")\n",
    "\n",
    "print(f\"Treinamento: {X_train.shape[0]} amostras\")\n",
    "print(f\"Teste: {X_test.shape[0]} amostras\")\n"
   ]
  },
  {
   "cell_type": "markdown",
   "id": "24015693",
   "metadata": {},
   "source": [
    "## Comentário: Por que dividir o dataset?\n",
    "\n",
    "Dividimos o dataset em dois conjuntos:\n",
    "\n",
    "- **Treinamento (80%)** → para o modelo **aprender** os padrões a partir dos dados.\n",
    "- **Teste (20%)** → para **avaliar** se o modelo consegue **generalizar** para dados que nunca viu.\n",
    "\n",
    "Essa separação é essencial para evitar o **overfitting** — quando o modelo \"decora\" os dados de treino, mas falha ao prever novos casos.\n",
    "\n",
    "Usamos `random_state=42` para garantir que a divisão seja **reprodutível** — ou seja, se rodarmos o código novamente, a divisão será a mesma.\n",
    "\n",
    "**Resumo:**  \n",
    "Separar os dados é um dos passos mais importantes para validar a **robustez** e a **eficácia** do modelo.\n"
   ]
  },
  {
   "cell_type": "markdown",
   "id": "8dfaa94a",
   "metadata": {},
   "source": [
    "## 6. Modelagem Preditiva — Regressão Linear\n",
    "\n",
    "Agora vamos criar e treinar o nosso modelo de **Regressão Linear**.\n",
    "\n",
    "Optamos por começar com a Regressão Linear por ser um modelo **simples**, **interpretável** e ideal para estabelecer uma **linha de base**.\n",
    "\n",
    "(Depois, podemos evoluir para modelos mais complexos).\n"
   ]
  },
  {
   "cell_type": "code",
   "execution_count": 12,
   "id": "eab0fd91",
   "metadata": {},
   "outputs": [
    {
     "name": "stdout",
     "output_type": "stream",
     "text": [
      "Modelo treinado com sucesso!\n"
     ]
    }
   ],
   "source": [
    "from sklearn.linear_model import LinearRegression\n",
    "\n",
    "# Inicializar o modelo\n",
    "modelo = LinearRegression()\n",
    "\n",
    "# Treinar o modelo com os dados de treino\n",
    "modelo.fit(X_train, y_train)\n",
    "\n",
    "print(\"Modelo treinado com sucesso!\")\n"
   ]
  },
  {
   "cell_type": "markdown",
   "id": "028e60e9",
   "metadata": {},
   "source": [
    "## Explicação do Código — Modelagem com Regressão Linear\n",
    "\n",
    "- **`modelo = LinearRegression()`** → inicializamos o modelo de Regressão Linear usando a biblioteca **scikit-learn**.\n",
    "\n",
    "- **`modelo.fit(X_train, y_train)`** → aqui o modelo **aprende** a relação entre as variáveis preditoras (`X_train`) e a variável alvo (`y_train`).\n",
    "\n",
    "**Resumo:**  \n",
    "Com essas duas linhas de código, o modelo está **pronto para fazer previsões** com base no que aprendeu a partir dos dados de treinamento.\n"
   ]
  },
  {
   "cell_type": "markdown",
   "id": "1b1fb82f",
   "metadata": {},
   "source": [
    "## 7.Avaliação do Modelo\n",
    "\n",
    "Agora vamos avaliar a performance do modelo com métricas estatísticas e visualizações.  \n",
    "\n",
    "As principais métricas que vamos usar são:\n",
    "\n",
    "- **MSE (Erro Quadrático Médio)** → quanto menor, melhor.\n",
    "- **RMSE (Raiz do Erro Quadrático Médio)** → interpretação mais intuitiva, na mesma unidade da variável `encargos`.\n",
    "- **R² (Coeficiente de Determinação)** → indica o quanto da variabilidade do `encargos` é explicada pelo modelo (varia de 0 a 1).\n",
    "\n",
    "Também vamos visualizar um gráfico de **valores reais vs previstos**."
   ]
  },
  {
   "cell_type": "code",
   "execution_count": 13,
   "id": "543e08f5",
   "metadata": {},
   "outputs": [
    {
     "name": "stdout",
     "output_type": "stream",
     "text": [
      "MSE: 33596915.85\n",
      "RMSE: 5796.28\n",
      "R²: 0.78\n"
     ]
    },
    {
     "data": {
      "image/png": "[encoded data removed]",
      "text/plain": [
       "<Figure size 600x600 with 1 Axes>"
      ]
     },
     "metadata": {},
     "output_type": "display_data"
    }
   ],
   "source": [
    "from sklearn.metrics import mean_squared_error, r2_score\n",
    "import numpy as np\n",
    "import matplotlib.pyplot as plt\n",
    "\n",
    "# Fazer previsões com os dados de teste\n",
    "y_pred = modelo.predict(X_test)\n",
    "\n",
    "# Cálculo das métricas\n",
    "mse = mean_squared_error(y_test, y_pred)\n",
    "rmse = np.sqrt(mse)\n",
    "r2 = r2_score(y_test, y_pred)\n",
    "\n",
    "print(f\"MSE: {mse:.2f}\")\n",
    "print(f\"RMSE: {rmse:.2f}\")\n",
    "print(f\"R²: {r2:.2f}\")\n",
    "\n",
    "# Gráfico: valores reais vs previstos\n",
    "plt.figure(figsize=(6,6))\n",
    "plt.scatter(y_test, y_pred, alpha=0.7)\n",
    "plt.xlabel('Valores Reais')\n",
    "plt.ylabel('Valores Preditos')\n",
    "plt.title('Valores Reais vs Preditos')\n",
    "plt.plot([y_test.min(), y_test.max()], [y_test.min(), y_test.max()], 'r--')  # linha de referência\n",
    "plt.show()\n"
   ]
  },
  {
   "cell_type": "markdown",
   "id": "f5618fbd",
   "metadata": {},
   "source": [
    "## Interpretação das Métricas de Avaliação\n",
    "\n",
    "### MSE — Erro Quadrático Médio: `33.596.915,85`\n",
    "\n",
    "- Mede o **erro médio ao quadrado** entre os valores previstos e os reais.\n",
    "- Penaliza mais os **erros grandes**.\n",
    "- Como os encargos chegam a mais de R$ 60 mil, faz sentido o MSE estar na casa dos **milhões**.\n",
    "- **Não é muito intuitivo** de interpretar diretamente.\n",
    "\n",
    "---\n",
    "\n",
    "### RMSE — Raiz do Erro Quadrático Médio: `5.796,28`\n",
    "\n",
    "- É a raiz quadrada do MSE e, por isso, fica na **mesma unidade** da variável `encargos`.\n",
    "- Significa que, em média, o modelo **erra cerca de R$ 5.800** pra mais ou pra menos.\n",
    "- Mais intuitivo para explicar a **precisão do modelo**.\n",
    "\n",
    "---\n",
    "\n",
    "### R² — Coeficiente de Determinação: `0.78`\n",
    "\n",
    "- Mede o quanto da **variação dos custos médicos** o modelo consegue **explicar**.\n",
    "- Varia entre **0 e 1**:  \n",
    "  - **1** → modelo perfeito.  \n",
    "  - **0** → modelo inútil.  \n",
    "- Com **0.78**, significa que o modelo explica **78% da variação** nos encargos.\n",
    "\n",
    "---\n",
    "\n",
    "### **Resumo:**\n",
    "\n",
    "Nosso modelo:  \n",
    "- Tem um erro médio de cerca de **R$ 5.800**.  \n",
    "- Explica **78%** dos fatores que influenciam os custos médicos.\n",
    "\n",
    "É um resultado **satisfatório**, principalmente para um modelo **simples** e **sem ajustes mais avançados**.\n"
   ]
  },
  {
   "cell_type": "markdown",
   "id": "8c3aaa95",
   "metadata": {},
   "source": [
    "## 8. Validação Estatística com `statsmodels`\n",
    "\n",
    "Agora vamos usar o pacote **`statsmodels`** para fazer uma **validação estatística** mais completa.  \n",
    "Diferente do `scikit-learn`, o `statsmodels` nos permite analisar:\n",
    "\n",
    "- **p-valores** → verificar a **significância estatística** de cada variável.\n",
    "- **intervalos de confiança** → entender a **precisão** dos coeficientes estimados.\n",
    "- **resumo completo** do modelo → com várias estatísticas úteis para interpretação.\n",
    "\n",
    "Isso é importante para validar a **robustez** do modelo e garantir que as variáveis realmente contribuem para explicar o `encargos`.\n"
   ]
  },
  {
   "cell_type": "code",
   "execution_count": 15,
   "id": "2557b713",
   "metadata": {},
   "outputs": [
    {
     "name": "stdout",
     "output_type": "stream",
     "text": [
      "                            OLS Regression Results                            \n",
      "==============================================================================\n",
      "Dep. Variable:               encargos   R-squared:                       0.751\n",
      "Model:                            OLS   Adj. R-squared:                  0.749\n",
      "Method:                 Least Squares   F-statistic:                     500.8\n",
      "Date:                Mon, 26 May 2025   Prob (F-statistic):               0.00\n",
      "Time:                        00:11:49   Log-Likelihood:                -13548.\n",
      "No. Observations:                1338   AIC:                         2.711e+04\n",
      "Df Residuals:                    1329   BIC:                         2.716e+04\n",
      "Df Model:                           8                                         \n",
      "Covariance Type:            nonrobust                                         \n",
      "====================================================================================\n",
      "                       coef    std err          t      P>|t|      [0.025      0.975]\n",
      "------------------------------------------------------------------------------------\n",
      "const            -1.194e+04    987.819    -12.086      0.000   -1.39e+04      -1e+04\n",
      "idade              256.8564     11.899     21.587      0.000     233.514     280.199\n",
      "imc                339.1935     28.599     11.860      0.000     283.088     395.298\n",
      "filhos             475.5005    137.804      3.451      0.001     205.163     745.838\n",
      "genero_masculino  -131.3144    332.945     -0.394      0.693    -784.470     521.842\n",
      "fumante_sim       2.385e+04    413.153     57.723      0.000     2.3e+04    2.47e+04\n",
      "regiao_noroeste   -352.9639    476.276     -0.741      0.459   -1287.298     581.370\n",
      "regiao_sudeste   -1035.0220    478.692     -2.162      0.031   -1974.097     -95.947\n",
      "regiao_sudoeste   -960.0510    477.933     -2.009      0.045   -1897.636     -22.466\n",
      "==============================================================================\n",
      "Omnibus:                      300.366   Durbin-Watson:                   2.088\n",
      "Prob(Omnibus):                  0.000   Jarque-Bera (JB):              718.887\n",
      "Skew:                           1.211   Prob(JB):                    7.86e-157\n",
      "Kurtosis:                       5.651   Cond. No.                         311.\n",
      "==============================================================================\n",
      "\n",
      "Notes:\n",
      "[1] Standard Errors assume that the covariance matrix of the errors is correctly specified.\n"
     ]
    }
   ],
   "source": [
    "import statsmodels.api as sm\n",
    "\n",
    "# Garantir que todas as variáveis são numéricas\n",
    "X = X.astype(float)\n",
    "\n",
    "# Adicionar a constante para o intercepto\n",
    "X2 = sm.add_constant(X)\n",
    "\n",
    "# Ajustar o modelo com statsmodels\n",
    "modelo_stats = sm.OLS(y, X2).fit()\n",
    "\n",
    "# Exibir o resumo estatístico\n",
    "print(modelo_stats.summary())\n"
   ]
  },
  {
   "cell_type": "markdown",
   "id": "3830f4aa",
   "metadata": {},
   "source": [
    "## Resumo da Validação Estatística\n",
    "\n",
    "Rodamos a validação com `statsmodels` e o que a gente viu?\n",
    "\n",
    "- O modelo conseguiu explicar cerca de **75%** da variação nos custos médicos → isso é **bom** pra um modelo simples como a Regressão Linear.\n",
    "\n",
    "- Algumas variáveis se mostraram **bem importantes**:\n",
    "  - Ser **fumante** aumenta, em média, o custo médico em mais de **R$ 23 mil** → faz sentido, né?\n",
    "  - Quanto maior o **IMC** e a **idade**, maior também o custo.\n",
    "  - Ter **filhos** também aumenta um pouco o custo.\n",
    "\n",
    "- Outras variáveis **não foram tão importantes**:\n",
    "  - Por exemplo, o **gênero** (ser homem ou mulher) não teve um impacto estatisticamente significativo.\n",
    "  - A **região noroeste** também não se destacou.\n",
    "\n",
    "- No geral, o modelo tá **bem ajustado**, os testes mostraram que ele é **consistente** e a análise estatística só reforça o que a gente viu nas outras métricas.\n",
    "\n",
    "**Resumo da ópera:**  \n",
    "O modelo funciona bem, identifica variáveis-chave e ainda dá pra evoluir testando modelos mais complexos ou refinando as variáveis.\n"
   ]
  },
  {
   "cell_type": "markdown",
   "id": "8d8694f8",
   "metadata": {},
   "source": [
    "## Conclusão e Próximos Passos\n",
    "\n",
    "Finalizamos nosso modelo de **Regressão Linear** para prever os **custos médicos** com base em características pessoais.\n",
    "\n",
    "### 📝 O que conseguimos até aqui:\n",
    "\n",
    "- Fizemos toda a **exploração dos dados**, identificando outliers e padrões.\n",
    "- Transformamos variáveis categóricas com **One-Hot Encoding**.\n",
    "- Treinamos um modelo de **Regressão Linear**.\n",
    "- Avaliamos o desempenho → com um **R² de ~75%** → um bom resultado!\n",
    "- Fizemos uma **validação estatística** completa, confirmando que variáveis como **fumante, idade e IMC** são as que mais impactam no custo.\n",
    "\n",
    "---\n",
    "\n",
    "### Próximos passos:\n",
    "\n",
    "- Testar modelos mais **complexos** → como **Árvores de Decisão**, **Random Forest** ou **XGBoost**.\n",
    "- Fazer **ajuste de hiperparâmetros** para melhorar a performance.\n",
    "- Explorar **transformações nas variáveis** (ex.: aplicar log no `encargos` pra reduzir o impacto de outliers).\n",
    "- Criar uma **API** para expor o modelo.\n",
    "- Fazer um **deploy** e transformar isso em um serviço de previsão real.\n",
    "\n",
    "---\n",
    "\n",
    "### **Resumo final:**\n",
    "\n",
    "Modelo rodou bem, resultado consistente e explicável.  \n",
    "Deu pra aplicar na prática vários conceitos que vimos nas aulas:  \n",
    "- Pré-processamento,  \n",
    "- Modelagem,  \n",
    "- Avaliação,  \n",
    "- Validação estatística.  \n",
    "\n",
    "**Missão cumprida!**\n"
   ]
  }
 ],
 "metadata": {
  "kernelspec": {
   "display_name": "venv",
   "language": "python",
   "name": "python3"
  },
  "language_info": {
   "codemirror_mode": {
    "name": "ipython",
    "version": 3
   },
   "file_extension": ".py",
   "mimetype": "text/x-python",
   "name": "python",
   "nbconvert_exporter": "python",
   "pygments_lexer": "ipython3",
   "version": "3.13.3"
  }
 },
 "nbformat": 4,
 "nbformat_minor": 5
}
